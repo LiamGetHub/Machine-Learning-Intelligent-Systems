{
 "cells": [
  {
   "cell_type": "code",
   "execution_count": 1,
   "metadata": {},
   "outputs": [],
   "source": [
    "#import libraries\n",
    "import pandas as pd\n",
    "import numpy as np\n",
    "import random\n",
    "\n",
    "from sklearn.model_selection import train_test_split\n",
    "from sklearn.preprocessing import StandardScaler\n",
    "from sklearn.linear_model import LogisticRegression\n",
    "from sklearn.naive_bayes import GaussianNB\n",
    "from sklearn.neighbors import KNeighborsClassifier\n",
    "\n",
    "from sklearn.metrics import accuracy_score, classification_report\n"
   ]
  },
  {
   "cell_type": "code",
   "execution_count": null,
   "metadata": {},
   "outputs": [],
   "source": [
    "#load an prepare data\n",
    "\n",
    "# Load the dataset\n",
    "df = pd.read_csv(\"heart_disease.csv\")\n",
    "\n",
    "# Define features and target\n",
    "feature_columns = ['age', 'cp', 'trestbps', 'chol', 'fbs', 'restecg',\n",
    "                   'thalach', 'exang', 'oldpeak', 'slope', 'ca', 'thal']\n",
    "x = df[feature_columns]\n",
    "y = df['target']\n",
    "\n",
    "# Split into training and testing sets\n",
    "x_training, x_testing, y_training, y_testing = train_test_split(x, y, test_size=0.3, random_state=42)\n",
    "\n",
    "# Standardize the features for models that need it\n",
    "scaler = StandardScaler()\n",
    "x_training_scaled = scaler.fit_transform(x_training)\n",
    "x_testing_scaled = scaler.transform(x_testing)\n"
   ]
  },
  {
   "cell_type": "code",
   "execution_count": 3,
   "metadata": {},
   "outputs": [
    {
     "name": "stdout",
     "output_type": "stream",
     "text": [
      "Logistic Regression Accuracy: 0.8338762214983714\n",
      "Gaussian Naive Bayes Accuracy: 0.7850162866449512\n",
      "K-Nearest Neighbors Accuracy: 0.8306188925081434\n"
     ]
    }
   ],
   "source": [
    "#train and evaluate models\n",
    "\n",
    "# Logistic Regression\n",
    "lr = LogisticRegression(max_iter=1000)\n",
    "lr.fit(x_training_scaled, y_training)\n",
    "lr_preds = lr.predict(x_testing_scaled)\n",
    "lr_acc = accuracy_score(y_testing, lr_preds)\n",
    "\n",
    "# Gaussian Naive Bayes (doesn't require scaling)\n",
    "gnb = GaussianNB()\n",
    "gnb.fit(x_training, y_training)\n",
    "gnb_preds = gnb.predict(x_testing)\n",
    "gnb_acc = accuracy_score(y_testing, gnb_preds)\n",
    "\n",
    "# K-Nearest Neighbors (requires scaling)\n",
    "knn = KNeighborsClassifier(n_neighbors=5)\n",
    "knn.fit(x_training_scaled, y_training)\n",
    "knn_preds = knn.predict(x_testing_scaled)\n",
    "knn_acc = accuracy_score(y_testing, knn_preds)\n",
    "\n",
    "# Print results\n",
    "print(\"Logistic Regression Accuracy:\", lr_acc)\n",
    "print(\"Gaussian Naive Bayes Accuracy:\", gnb_acc)\n",
    "print(\"K-Nearest Neighbors Accuracy:\", knn_acc)\n"
   ]
  },
  {
   "cell_type": "code",
   "execution_count": 4,
   "metadata": {},
   "outputs": [],
   "source": [
    "#Choose best classifier\n",
    "\n",
    "# Pick the best classifier\n",
    "best_classifier = None\n",
    "\n",
    "if lr_acc >= gnb_acc and lr_acc >= knn_acc:\n",
    "    best_classifier = lr\n",
    "    x_testing_final = x_testing_scaled\n",
    "elif gnb_acc >= lr_acc and gnb_acc >= knn_acc:\n",
    "    best_classifier = gnb\n",
    "    x_testing_final = x_testing\n",
    "else:\n",
    "    best_classifier = knn\n",
    "    x_testing_final = x_testing_scaled\n"
   ]
  },
  {
   "cell_type": "code",
   "execution_count": 5,
   "metadata": {},
   "outputs": [
    {
     "name": "stdout",
     "output_type": "stream",
     "text": [
      "The patient is likely to have a heart disease\n",
      "The patient is healthy\n",
      "The patient is healthy\n",
      "The patient is likely to have a heart disease\n",
      "The patient is likely to have a heart disease\n",
      "The patient is likely to have a heart disease\n",
      "The patient is likely to have a heart disease\n",
      "The patient is healthy\n",
      "The patient is healthy\n",
      "The patient is healthy\n",
      "The patient is healthy\n",
      "The patient is likely to have a heart disease\n",
      "The patient is healthy\n",
      "The patient is likely to have a heart disease\n",
      "The patient is likely to have a heart disease\n",
      "The patient is likely to have a heart disease\n",
      "The patient is healthy\n",
      "The patient is healthy\n",
      "The patient is likely to have a heart disease\n",
      "The patient is likely to have a heart disease\n"
     ]
    }
   ],
   "source": [
    "# use classifier o predict unknown/un-labeled data\n",
    "\n",
    "# Shuffle and use unseen data\n",
    "x_testing_list = x_testing_final.tolist()\n",
    "random.shuffle(x_testing_list)\n",
    "unseen_data = x_testing_list[:20]\n",
    "\n",
    "for data in unseen_data:\n",
    "    prediction = best_classifier.predict(np.asarray(data).reshape(1, -1))\n",
    "\n",
    "    if prediction[0] == 0:\n",
    "        print(\"The patient is healthy\")\n",
    "    else:\n",
    "        print(\"The patient is likely to have a heart disease\")\n"
   ]
  }
 ],
 "metadata": {
  "kernelspec": {
   "display_name": "Python 3",
   "language": "python",
   "name": "python3"
  },
  "language_info": {
   "codemirror_mode": {
    "name": "ipython",
    "version": 3
   },
   "file_extension": ".py",
   "mimetype": "text/x-python",
   "name": "python",
   "nbconvert_exporter": "python",
   "pygments_lexer": "ipython3",
   "version": "3.12.6"
  }
 },
 "nbformat": 4,
 "nbformat_minor": 2
}
