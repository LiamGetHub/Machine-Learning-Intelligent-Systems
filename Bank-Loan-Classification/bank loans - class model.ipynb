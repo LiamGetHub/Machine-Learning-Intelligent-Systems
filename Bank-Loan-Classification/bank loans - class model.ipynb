{
 "cells": [
  {
   "cell_type": "code",
   "execution_count": 2,
   "metadata": {},
   "outputs": [],
   "source": [
    "import pandas as pd\n",
    "import numpy as np\n",
    "import os\n",
    "import csv\n",
    "import random\n",
    "import matplotlib.pyplot as plt\n",
    "\n",
    "from sklearn.naive_bayes import GaussianNB\n",
    "from sklearn.linear_model import Perceptron\n",
    "from sklearn.linear_model import LogisticRegression\n",
    "from sklearn.neighbors import KNeighborsClassifier"
   ]
  },
  {
   "cell_type": "code",
   "execution_count": 3,
   "metadata": {},
   "outputs": [],
   "source": [
    "df = pd.read_csv('bank.csv')"
   ]
  },
  {
   "cell_type": "code",
   "execution_count": 4,
   "metadata": {},
   "outputs": [],
   "source": [
    "# prepare the data for the model using supervised learning: the dataset is split in two parts, the evidences and the training label (Personal Loan)\n",
    "\n",
    "# evidence: Age, Experience, Income, Family, CCVAverage, Education, Mortgage, Securities Account, CD Account, Online, CreditCard\n",
    "# label: Personal Loan\n",
    "\n",
    "data = []\n",
    "\n",
    "# columns 1 to 11 are the evidences (Age, Experience, Income, Family, CCVAverage, Education, Mortgage, Securities Account, CD Account, Online, CreditCard)\n",
    "# column 12 is the label for supervised learning models (Personal Loan)\n",
    "\n",
    "for row in df.values:\n",
    "    data.append({'evidence': [float(cell) for cell in row[1:12]], 'label': row[12]})\n"
   ]
  },
  {
   "cell_type": "code",
   "execution_count": 5,
   "metadata": {},
   "outputs": [],
   "source": [
    "TRAINING_SET_SIZE = 0.6\n",
    "\n",
    "# separate input data into training and testing sets\n",
    "\n",
    "training_data_size = int(TRAINING_SET_SIZE * len(data))\n",
    "\n",
    "# mix input data randomly\n",
    "\n",
    "random.shuffle(data)\n",
    "\n",
    "# training and testing data sets\n",
    "\n",
    "training = data[:training_data_size]\n",
    "testing = data[training_data_size:]\n",
    "\n",
    "x_training = [row['evidence'] for row in training]\n",
    "y_training = [row['label'] for row in training]\n",
    "\n",
    "# make predictions using the testing set\n",
    "\n",
    "x_testing = [row['evidence'] for row in testing]\n",
    "y_testing = [row['label'] for row in testing]"
   ]
  },
  {
   "cell_type": "code",
   "execution_count": 6,
   "metadata": {},
   "outputs": [
    {
     "data": {
      "text/plain": [
       "(3000, 2000)"
      ]
     },
     "execution_count": 6,
     "metadata": {},
     "output_type": "execute_result"
    }
   ],
   "source": [
    "len(x_training), len(x_testing)"
   ]
  },
  {
   "cell_type": "code",
   "execution_count": 7,
   "metadata": {},
   "outputs": [
    {
     "name": "stdout",
     "output_type": "stream",
     "text": [
      "Gaussian Naive Bayes \n",
      "\n",
      "Correct    1754\n",
      "Incorrect  246\n",
      "Accuracy   87.7\n"
     ]
    }
   ],
   "source": [
    "\n",
    "# Gaussian Naive Bayes\n",
    "\n",
    "classifier = GaussianNB()\n",
    "classifier.fit(x_training, y_training)\n",
    "\n",
    "predictions = classifier.predict(x_testing)\n",
    "\n",
    "# evaluate the model performance\n",
    "\n",
    "correct_predictions = (y_testing == predictions).sum()\n",
    "incorrect_predictions = (y_testing != predictions).sum()\n",
    "total_predictions = len(predictions)\n",
    "\n",
    "# prediction performance\n",
    "\n",
    "print ('Gaussian Naive Bayes \\n')\n",
    "\n",
    "print ('Correct   ', correct_predictions)\n",
    "print ('Incorrect ', incorrect_predictions)\n",
    "print ('Accuracy  ', (100 * correct_predictions / total_predictions))\n"
   ]
  },
  {
   "cell_type": "code",
   "execution_count": 8,
   "metadata": {},
   "outputs": [
    {
     "name": "stdout",
     "output_type": "stream",
     "text": [
      "Evaluation of K-Nearest Neighbors \n",
      "\n",
      "k = 1  90.400\n",
      "k = 2  91.300\n",
      "k = 3  91.100\n",
      "k = 4  91.600\n",
      "k = 5  91.550\n",
      "k = 6  91.250\n",
      "k = 7  91.050\n",
      "k = 8  91.300\n",
      "k = 9  91.100\n",
      "k = 10  91.050\n",
      "\n",
      "Best neighbor k = 4  91.600 \n",
      "\n"
     ]
    },
    {
     "data": {
      "image/png": "[encoded data removed]",
      "text/plain": [
       "<Figure size 640x480 with 1 Axes>"
      ]
     },
     "metadata": {},
     "output_type": "display_data"
    },
    {
     "name": "stdout",
     "output_type": "stream",
     "text": [
      "Incorrect  246\n",
      "Accuracy   87.7\n"
     ]
    }
   ],
   "source": [
    "# evaluate K-Nearest Neighbor for k = 1 to 10\n",
    "\n",
    "MAX_NEIGHBORS = 10\n",
    "\n",
    "scores = []\n",
    "\n",
    "best_score = 0\n",
    "best_neighbor = 0\n",
    "\n",
    "print ('Evaluation of K-Nearest Neighbors \\n')\n",
    "\n",
    "for k in range(1, MAX_NEIGHBORS + 1):\n",
    "    classifier = KNeighborsClassifier(n_neighbors=k)\n",
    "    classifier.fit(x_training, y_training)\n",
    "\n",
    "    scores.append(classifier.score(x_testing, y_testing))\n",
    "\n",
    "    if best_score < scores[k-1]:\n",
    "        best_neighbor = k-1\n",
    "        best_score = scores[k-1]\n",
    "\n",
    "    print ('k =', k, ' {:.3f}'.format(100*scores[k-1]))\n",
    "\n",
    "print ('\\nBest neighbor k =', (best_neighbor+1), ' {:.3f}'.format(100*scores[best_neighbor]), '\\n')\n",
    "\n",
    "plt.plot(range(1, MAX_NEIGHBORS + 1), scores)\n",
    "plt.ylabel('Accuracy')\n",
    "plt.xlabel('k')\n",
    "plt.show()\n",
    "\n",
    "print ('Incorrect ', incorrect_predictions)\n",
    "print ('Accuracy  ', (100 * correct_predictions / total_predictions))"
   ]
  },
  {
   "cell_type": "code",
   "execution_count": 9,
   "metadata": {},
   "outputs": [
    {
     "name": "stdout",
     "output_type": "stream",
     "text": [
      "k-Neighbors(2) \n",
      "\n",
      "Correct    1832\n",
      "Incorrect  168\n",
      "Accuracy   91.6\n"
     ]
    }
   ],
   "source": [
    "# k-Neighbors\n",
    "\n",
    "NEIGHBORS = 4\n",
    "\n",
    "classifier = KNeighborsClassifier(n_neighbors=NEIGHBORS)\n",
    "classifier.fit(x_training, y_training)\n",
    "\n",
    "predictions = classifier.predict(x_testing)\n",
    "\n",
    "# evaluate the model performance\n",
    "\n",
    "correct_predictions = (y_testing == predictions).sum()\n",
    "incorrect_predictions = (y_testing != predictions).sum()\n",
    "total_predictions = len(predictions)\n",
    "\n",
    "# prediction performance\n",
    "\n",
    "print ('k-Neighbors(2) \\n')\n",
    "\n",
    "print ('Correct   ', correct_predictions)\n",
    "print ('Incorrect ', incorrect_predictions)\n",
    "print ('Accuracy  ', (100 * correct_predictions / total_predictions))"
   ]
  },
  {
   "cell_type": "code",
   "execution_count": 10,
   "metadata": {},
   "outputs": [
    {
     "name": "stdout",
     "output_type": "stream",
     "text": [
      "logistic regression \n",
      "\n",
      "Correct    1894\n",
      "Incorrect  106\n",
      "Accuracy   94.7\n"
     ]
    }
   ],
   "source": [
    "# logistic regresion\n",
    "\n",
    "classifier = LogisticRegression(solver='liblinear')\n",
    "classifier.fit(x_training, y_training)\n",
    "\n",
    "predictions = classifier.predict(x_testing)\n",
    "\n",
    "# evaluate the model performance\n",
    "\n",
    "correct_predictions = (y_testing == predictions).sum()\n",
    "incorrect_predictions = (y_testing != predictions).sum()\n",
    "total_predictions = len(predictions)\n",
    "\n",
    "# prediction performance\n",
    "\n",
    "print ('logistic regression \\n')\n",
    "\n",
    "print ('Correct   ', correct_predictions)\n",
    "print ('Incorrect ', incorrect_predictions)\n",
    "print ('Accuracy  ', (100 * correct_predictions / total_predictions))"
   ]
  },
  {
   "cell_type": "code",
   "execution_count": null,
   "metadata": {},
   "outputs": [
    {
     "name": "stdout",
     "output_type": "stream",
     "text": [
      "The customer is likely to get a personal loan\n",
      "The customer is not likely to get a personal loan\n",
      "The customer is likely to get a personal loan\n",
      "The customer is not likely to get a personal loan\n",
      "The customer is likely to get a personal loan\n",
      "The customer is not likely to get a personal loan\n"
     ]
    }
   ],
   "source": [
    "# test the model with unseen data: customer likely to get a personal loan: Age, Experience, Income, Family, CCVAverage, Education, Mortgage, Securities Account, CD Account, Online, CreditCard\n",
    "\n",
    "unseen_data = [[38.0, 14.0, 140.0, 4.0, 4.7, 3.0, 0.0, 0.0, 0.0, 0.0, 1.0],\n",
    "               [23.0,  1.0,  55.0, 1.0, 1.0, 1.0, 0.0, 0.0, 0.0, 0.0, 1.0],\n",
    "               [50.0, 24.0, 160.0, 3.0, 3.0, 3.0, 0.0, 0.0, 0.0, 0.0, 1.0],\n",
    "               [21.0,  1.0,  40.0, 1.0, 0.5, 1.0, 0.0, 0.0, 0.0, 0.0, 0.0],\n",
    "               [45.0, 20.0, 120.0, 5.0, 2.5, 3.0, 0.0, 0.0, 0.0, 0.0, 1.0],\n",
    "               [24.0,  2.0,  60.0, 1.0, 1.5, 1.0, 0.0, 0.0, 0.0, 0.0, 0.0]]\n",
    "\n",
    "for data in unseen_data:\n",
    "    prediction = classifier.predict(np.asarray(data).reshape(1,-1))\n",
    "\n",
    "    if (prediction[0] == 0):\n",
    "        print(\"The customer is not likely to get a personal loan\")\n",
    "    else:\n",
    "        print(\"The customer is likely to get a personal loan\")\n",
    "\n",
    "# model seams highly reliant on education, and in contrest, gives little weight to other inputs."
   ]
  }
 ],
 "metadata": {
  "kernelspec": {
   "display_name": "Python 3",
   "language": "python",
   "name": "python3"
  },
  "language_info": {
   "codemirror_mode": {
    "name": "ipython",
    "version": 3
   },
   "file_extension": ".py",
   "mimetype": "text/x-python",
   "name": "python",
   "nbconvert_exporter": "python",
   "pygments_lexer": "ipython3",
   "version": "3.12.6"
  }
 },
 "nbformat": 4,
 "nbformat_minor": 2
}
